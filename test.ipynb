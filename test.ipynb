{
 "cells": [
  {
   "cell_type": "code",
   "execution_count": 1,
   "metadata": {},
   "outputs": [],
   "source": [
    "log_file = open('logs/logs.log', 'r')\n",
    "log_lines = log_file.readlines()"
   ]
  },
  {
   "cell_type": "code",
   "execution_count": 2,
   "metadata": {},
   "outputs": [
    {
     "data": {
      "text/plain": [
       "['Uploaded File and got temporary URL to file\\n',\n",
       " 'Made request and file is currently queued\\n',\n",
       " 'starting to transcribe the file: [ short_test_file.mp4 ]\\n',\n",
       " 'Processing the file: [ short_test_file.mp4 ]\\n',\n",
       " 'transcription completed\\n',\n",
       " 'Saving the Transcribed Files to S3: [ short_test_file.mp4 ]\\n']"
      ]
     },
     "execution_count": 2,
     "metadata": {},
     "output_type": "execute_result"
    }
   ],
   "source": [
    "log_lines"
   ]
  },
  {
   "cell_type": "code",
   "execution_count": 1,
   "metadata": {},
   "outputs": [],
   "source": [
    "import random\n",
    "num1 = random.randint(0, 9)"
   ]
  },
  {
   "cell_type": "code",
   "execution_count": 2,
   "metadata": {},
   "outputs": [
    {
     "data": {
      "text/plain": [
       "5"
      ]
     },
     "execution_count": 2,
     "metadata": {},
     "output_type": "execute_result"
    }
   ],
   "source": [
    "num1"
   ]
  },
  {
   "cell_type": "code",
   "execution_count": 10,
   "metadata": {},
   "outputs": [
    {
     "data": {
      "text/plain": [
       "0"
      ]
     },
     "execution_count": 10,
     "metadata": {},
     "output_type": "execute_result"
    }
   ],
   "source": [
    "random.randint(0, 6)"
   ]
  },
  {
   "cell_type": "code",
   "execution_count": null,
   "metadata": {},
   "outputs": [],
   "source": [
    "tokens = [\n",
    "    \"d3b6f15c585b4a1bbf43f20f60535185\",\n",
    "    \"f78f332f84624559a4ac51870e85a1c5\",\n",
    "    \"a788369fef274a0393624e2fc7a9a70a\",\n",
    "    \"a2b89c113dc54485abe2692fc8e9ab30\",\n",
    "    \"c5df2367fcdc47ae9d8a68b5e9b1a62e\",\n",
    "    \"10c3286baa1e4429b0095eabd6480582\",\n",
    "    \"d807c86bec5e4c80b9460472524189ec\"\n",
    "    ]"
   ]
  }
 ],
 "metadata": {
  "kernelspec": {
   "display_name": "Python 3.7.9 ('apienv': venv)",
   "language": "python",
   "name": "python3"
  },
  "language_info": {
   "codemirror_mode": {
    "name": "ipython",
    "version": 3
   },
   "file_extension": ".py",
   "mimetype": "text/x-python",
   "name": "python",
   "nbconvert_exporter": "python",
   "pygments_lexer": "ipython3",
   "version": "3.7.9"
  },
  "orig_nbformat": 4,
  "vscode": {
   "interpreter": {
    "hash": "9fdf41c1e66817aa3e6c7318f972db28b29e8d3a0a729094b559e77ae5a5bde9"
   }
  }
 },
 "nbformat": 4,
 "nbformat_minor": 2
}
