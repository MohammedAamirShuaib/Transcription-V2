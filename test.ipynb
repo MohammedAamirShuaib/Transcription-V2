{
 "cells": [
  {
   "cell_type": "markdown",
   "metadata": {},
   "source": [
    "## ToDo List\n",
    "1. Figure a better way to capture logs\n",
    "2. refine the UI by showing records by project name\n",
    "3. refine the tables"
   ]
  },
  {
   "cell_type": "code",
   "execution_count": 62,
   "metadata": {},
   "outputs": [],
   "source": [
    "from datetime import datetime\n",
    "from functions import Connect"
   ]
  },
  {
   "cell_type": "code",
   "execution_count": 83,
   "metadata": {},
   "outputs": [],
   "source": [
    "use_id = \"12345\"\n",
    "username = \"aamirshuaib\"\n",
    "mydb = Connect.db()\n",
    "record_cursor = mydb.cursor()\n",
    "record_cursor.execute(\"SELECT project_name FROM Projects ORDER BY id DESC;\")\n",
    "table_rows = record_cursor.fetchall()\n",
    "project_dict = {'project_name':[],\"count\":[]}\n",
    "for proj in table_rows:\n",
    "    record_cursor.execute(\"SELECT count(id) from Records WHERE project_name='\"+proj[0]+\"';\")\n",
    "    count_files = record_cursor.fetchall()\n",
    "    project_dict['count'].append(count_files[0][0])\n",
    "    project_dict['project_name'].append(proj[0])\n",
    "table =\"\"\n",
    "for i in range(len(project_dict['project_name'])):\n",
    "    project_name = project_dict['project_name'][i]\n",
    "    no_count = str(project_dict['count'][i])\n",
    "    link = username+\"/\"+project_name+\"/files/\"+use_id\n",
    "    table += \"<tr><td><a href='\"+link+\"' class='project-link'>\"+project_name+\"</td><td>\"+no_count+\"</td></tr>\"\n"
   ]
  },
  {
   "cell_type": "code",
   "execution_count": 86,
   "metadata": {},
   "outputs": [],
   "source": [
    "mydb = Connect.db()\n",
    "project_name = \"project5\"\n",
    "record_cursor = mydb.cursor()\n",
    "record_cursor.execute(\"SELECT * FROM Records WHERE project_name='\"+project_name+\"' ORDER BY date_time DESC;\")\n",
    "table_rows = record_cursor.fetchall()\n",
    "table = \"\"\n",
    "for re in table_rows:\n",
    "    table += \"<tr><td>\"+re[1].strftime(\"%d-%m-%Y %I:%M %p\") + \\\n",
    "        \"</td><td>\"+re[2]+\"</td><td>\"+re[4]+\"</td>\"\n",
    "    table += \"<td><a href='\"+re[5]+\"' class='dwn-link'>Download</a></td>\"\n",
    "    table += \"<td><a href='\"+re[6] + \\\n",
    "        \"' class='dwn-link'>Download</a></td></tr>\""
   ]
  },
  {
   "cell_type": "code",
   "execution_count": 87,
   "metadata": {},
   "outputs": [
    {
     "data": {
      "text/plain": [
       "\"<tr><td>30-11-2022 11:07 AM</td><td>aamirshuaib</td><td>short_test_file</td><td><a href='http://ec2-54-164-248-248.compute-1.amazonaws.com/download/project5/short_test_file.docx' class='dwn-link'>Download</a></td><td><a href='http://ec2-54-164-248-248.compute-1.amazonaws.com/download/project5/short_test_file.csv' class='dwn-link'>Download</a></td></tr><tr><td>30-11-2022 11:07 AM</td><td>aamirshuaib</td><td>short_test_file</td><td><a href='http://ec2-54-164-248-248.compute-1.amazonaws.com/download/project5/short_test_file.docx' class='dwn-link'>Download</a></td><td><a href='http://ec2-54-164-248-248.compute-1.amazonaws.com/download/project5/short_test_file.csv' class='dwn-link'>Download</a></td></tr><tr><td>30-11-2022 11:07 AM</td><td>aamirshuaib</td><td>short_test_file</td><td><a href='http://ec2-54-164-248-248.compute-1.amazonaws.com/download/project5/short_test_file.docx' class='dwn-link'>Download</a></td><td><a href='http://ec2-54-164-248-248.compute-1.amazonaws.com/download/project5/short_test_file.csv' class='dwn-link'>Download</a></td></tr><tr><td>30-11-2022 09:59 AM</td><td>aamirshuaib</td><td>short_test_file</td><td><a href='http://ec2-54-164-248-248.compute-1.amazonaws.com/download/project5/short_test_file.docx' class='dwn-link'>Download</a></td><td><a href='http://ec2-54-164-248-248.compute-1.amazonaws.com/download/project5/short_test_file.csv' class='dwn-link'>Download</a></td></tr><tr><td>30-11-2022 09:47 AM</td><td>aamirshuaib</td><td>short_test_file</td><td><a href='http://ec2-54-164-248-248.compute-1.amazonaws.com/download/project5/short_test_file.docx' class='dwn-link'>Download</a></td><td><a href='http://ec2-54-164-248-248.compute-1.amazonaws.com/download/project5/short_test_file.csv' class='dwn-link'>Download</a></td></tr><tr><td>30-11-2022 09:47 AM</td><td>aamirshuaib</td><td>short_test_file</td><td><a href='http://ec2-54-164-248-248.compute-1.amazonaws.com/download/project5/short_test_file.docx' class='dwn-link'>Download</a></td><td><a href='http://ec2-54-164-248-248.compute-1.amazonaws.com/download/project5/short_test_file.csv' class='dwn-link'>Download</a></td></tr>\""
      ]
     },
     "execution_count": 87,
     "metadata": {},
     "output_type": "execute_result"
    }
   ],
   "source": [
    "table"
   ]
  },
  {
   "cell_type": "code",
   "execution_count": 66,
   "metadata": {},
   "outputs": [],
   "source": [
    "# insert projects into project table\n",
    "project_name = \"project6\"\n",
    "username = \"aamirshuaib\"\n",
    "mydb = Connect.db()\n",
    "add_project_cursor = mydb.cursor()\n",
    "query = \"INSERT into Projects(project_name,username) values(%s,%s)\"\n",
    "add_project = [(project_name, username),]\n",
    "add_project_cursor.executemany(query, add_project)\n",
    "mydb.commit()"
   ]
  },
  {
   "cell_type": "code",
   "execution_count": 61,
   "metadata": {},
   "outputs": [],
   "source": [
    "fname = \"short_test_file\"\n",
    "transcription_time = 12\n",
    "project_name = \"project5\"\n",
    "doc_download_link = \"http://ec2-54-164-248-248.compute-1.amazonaws.com/download/\" + \\\n",
    "    project_name+\"/\"+fname+\".docx\"\n",
    "csv_download_link = \"http://ec2-54-164-248-248.compute-1.amazonaws.com/download/\" + \\\n",
    "    project_name+\"/\"+fname+\".csv\"\n",
    "\n",
    "record_cursor = mydb.cursor()\n",
    "query = \"INSERT into Records(date_time,username,project_name,fname,doc_download_link,csv_download_link,transcription_time) values(%s,%s,%s,%s,%s,%s,%s)\"\n",
    "doc_download_link = \"http://ec2-54-164-248-248.compute-1.amazonaws.com/download/\" + \\\n",
    "    project_name+\"/\"+fname+\".docx\"\n",
    "csv_download_link = \"http://ec2-54-164-248-248.compute-1.amazonaws.com/download/\" + \\\n",
    "    project_name+\"/\"+fname+\".csv\"\n",
    "record = [(datetime.now(), username, project_name, fname,\n",
    "            doc_download_link, csv_download_link, transcription_time),]\n",
    "record_cursor.executemany(query, record)\n",
    "mydb.commit()"
   ]
  },
  {
   "cell_type": "code",
   "execution_count": null,
   "metadata": {},
   "outputs": [],
   "source": [
    "for re in table_rows:\n",
    "    table += \"<tr><td>\"+re[1].strftime(\"%d-%m-%Y %I:%M %p\") + \\\n",
    "        \"</td><td>\"+re[2]+\"</td><td>\"+re[3]+\"</td><td>\"+re[4]+\"</td>\"\n",
    "    table += \"<td><a href='\"+re[5]+\"' class='dwn-link'>Download</a></td>\"\n",
    "    table += \"<td><a href='\"+re[6] + \\\n",
    "        \"' class='dwn-link'>Download</a></td></tr>\""
   ]
  },
  {
   "cell_type": "code",
   "execution_count": 16,
   "metadata": {},
   "outputs": [
    {
     "data": {
      "text/plain": [
       "datetime.datetime(2022, 11, 30, 9, 46, 54, 744400)"
      ]
     },
     "execution_count": 16,
     "metadata": {},
     "output_type": "execute_result"
    }
   ],
   "source": [
    "datetime.datetime.now()"
   ]
  },
  {
   "cell_type": "code",
   "execution_count": null,
   "metadata": {},
   "outputs": [],
   "source": []
  }
 ],
 "metadata": {
  "kernelspec": {
   "display_name": "Python 3.7.9 ('apienv': venv)",
   "language": "python",
   "name": "python3"
  },
  "language_info": {
   "codemirror_mode": {
    "name": "ipython",
    "version": 3
   },
   "file_extension": ".py",
   "mimetype": "text/x-python",
   "name": "python",
   "nbconvert_exporter": "python",
   "pygments_lexer": "ipython3",
   "version": "3.7.9"
  },
  "orig_nbformat": 4,
  "vscode": {
   "interpreter": {
    "hash": "9fdf41c1e66817aa3e6c7318f972db28b29e8d3a0a729094b559e77ae5a5bde9"
   }
  }
 },
 "nbformat": 4,
 "nbformat_minor": 2
}
